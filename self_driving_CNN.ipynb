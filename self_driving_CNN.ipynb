{
 "cells": [
  {
   "cell_type": "markdown",
   "id": "ecc0deb6-0785-4762-86ba-e0014d712a5f",
   "metadata": {
    "tags": []
   },
   "source": [
    "# Self-Driving CNN model"
   ]
  },
  {
   "cell_type": "markdown",
   "id": "c9110931-eb41-4077-846e-662c308601e1",
   "metadata": {},
   "source": [
    "## Base Model"
   ]
  },
  {
   "cell_type": "code",
   "execution_count": 16,
   "id": "71ee0952-ee02-4aed-97cc-054328bc601b",
   "metadata": {},
   "outputs": [
    {
     "name": "stdout",
     "output_type": "stream",
     "text": [
      "Completed processing data.txt\n"
     ]
    }
   ],
   "source": [
    "# Read images and steering angles from driving_dataset folder\n",
    "import os\n",
    "import numpy as np\n",
    "import random\n",
    "\n",
    "from scipy import pi\n",
    "from itertools import islice\n",
    "\n",
    "DATA_FOLDER = '/home/exouser/Downloads/Project_code_data/Dataset/driving_dataset/driving_dataset/'\n",
    "TRAIN_FILE = os.path.join(DATA_FOLDER, 'data.txt')\n",
    "\n",
    "split = 0.8\n",
    "X = []\n",
    "y = []\n",
    "with open(TRAIN_FILE) as fp:\n",
    "    for line in islice(fp,45407):\n",
    "        path, angle = line.strip().split()\n",
    "        full_path = os.path.join(DATA_FOLDER, path)\n",
    "        X.append(full_path)\n",
    "        \n",
    "        # converting angle from degrees to radians\n",
    "        y.append(float(angle)*pi/180)\n",
    "        \n",
    "y = np.array(y)\n",
    "print(\"Completed processing data.txt\")\n",
    "\n",
    "split_index = int(len(y)*0.8)\n",
    "\n",
    "train_y = y[:split_index]\n",
    "test_y = y[split_index:]\n",
    "\n",
    "\n"
   ]
  },
  {
   "cell_type": "code",
   "execution_count": 17,
   "id": "3fda712e-7661-44b4-a2a4-c2a26a36e3fa",
   "metadata": {},
   "outputs": [
    {
     "data": {
      "image/png": "[encoded data removed]",
      "text/plain": [
       "<Figure size 640x480 with 1 Axes>"
      ]
     },
     "metadata": {},
     "output_type": "display_data"
    }
   ],
   "source": [
    "import numpy;\n",
    "# PDF of train and test 'y' values\n",
    "\n",
    "import matplotlib.pyplot as plt\n",
    "plt.hist(train_y, bins=50, density=True, color='green', histtype ='step');\n",
    "plt.hist(test_y, bins=50, density=True, color='red', histtype ='step');\n",
    "plt.show()\n"
   ]
  },
  {
   "cell_type": "code",
   "execution_count": 18,
   "id": "b663e8eb-6cfc-4c28-8466-ff1a97419afd",
   "metadata": {},
   "outputs": [
    {
     "name": "stdout",
     "output_type": "stream",
     "text": [
      "R-squared (Mean Baseline): -0.002249\n",
      "R-squared (Zero Baseline): -0.001012\n"
     ]
    }
   ],
   "source": [
    "from sklearn.metrics import mean_squared_error,r2_score\n",
    "\n",
    "# Calculate mean of train_y\n",
    "train_mean_y = np.mean(train_y)\n",
    "# Calculate R-squared for mean baseline prediction\n",
    "r2_mean_baseline = r2_score(test_y, np.full_like(test_y, fill_value=train_mean_y))\n",
    "\n",
    "# Calculate R-squared for zero baseline prediction\n",
    "r2_zero_baseline = r2_score(test_y, np.zeros_like(test_y))\n",
    "\n",
    "# Print R-squared values\n",
    "print('R-squared (Mean Baseline): %.6f' % r2_mean_baseline)\n",
    "print('R-squared (Zero Baseline): %.6f' % r2_zero_baseline)\n"
   ]
  },
  {
   "cell_type": "markdown",
   "id": "69031779-aff3-4c09-ab14-ad0909551e9a",
   "metadata": {},
   "source": [
    "## CNN Model Section"
   ]
  },
  {
   "cell_type": "code",
   "execution_count": 3,
   "id": "15e24095-a6ab-4aa6-b979-8db1e4372788",
   "metadata": {},
   "outputs": [],
   "source": [
    "import os\n",
    "from PIL import Image\n",
    "import numpy as np\n",
    "\n",
    "#Read data from data.txt file\n",
    "data_file = '/home/exouser/Downloads/Project_code_data/Dataset/driving_dataset/driving_dataset/data.txt'\n",
    "image_dir = '/home/exouser/Downloads/Project_code_data/Dataset/driving_dataset/driving_dataset/'  # Directory containing your images\n",
    "\n",
    "#Rading the image name and label (steering angle) from teh text file\n",
    "data = []\n",
    "with open(data_file, 'r') as f:\n",
    "    for line in f:\n",
    "        image_name, label = line.strip().split()\n",
    "        label = float(label)  # Convert label to float\n",
    "        data.append((image_name, label))\n",
    "\n",
    "\n"
   ]
  },
  {
   "cell_type": "code",
   "execution_count": 4,
   "id": "abca7375-6b0d-49a3-96c8-1351f9ca31d3",
   "metadata": {},
   "outputs": [
    {
     "data": {
      "text/plain": [
       "(455, 256)"
      ]
     },
     "execution_count": 4,
     "metadata": {},
     "output_type": "execute_result"
    }
   ],
   "source": [
    "#checking image size\n",
    "test_img = Image.open('/home/exouser/Downloads/Project_code_data/Dataset/driving_dataset/driving_dataset/45.jpg')\n",
    "test_img.size"
   ]
  },
  {
   "cell_type": "code",
   "execution_count": 5,
   "id": "c1a29f38-0702-48ba-8bda-e868b74dc6f0",
   "metadata": {},
   "outputs": [],
   "source": [
    "import os\n",
    "from PIL import Image\n",
    "import numpy as np\n",
    "import torch\n",
    "from torch.utils.data import Dataset, DataLoader\n",
    "from torchvision import transforms\n",
    "import random\n",
    "\n",
    "# creating a custom dataset class to create train and test dataset\n",
    "class CustomDataset(Dataset):\n",
    "    def __init__(self, data, image_dir, transform=None, split='train', train_split_ratio=0.8, shuffle_data=True):\n",
    "        self.data = data\n",
    "        self.image_dir = image_dir\n",
    "        self.transform = transform\n",
    "        self.split = split\n",
    "        self.train_split_ratio = train_split_ratio\n",
    "        self.shuffle_data = shuffle_data\n",
    "        \n",
    "        if self.shuffle_data:\n",
    "            random.shuffle(self.data)  # Shuffle the data if specified\n",
    "        \n",
    "        if self.split == 'train':\n",
    "            self.data = self.data[:int(len(self.data) * self.train_split_ratio)]\n",
    "        elif self.split == 'val':\n",
    "            self.data = self.data[int(len(self.data) * self.train_split_ratio):]\n",
    "\n",
    "    def __len__(self):\n",
    "        return len(self.data)\n",
    "\n",
    "    def __getitem__(self, idx):\n",
    "        image_name, label = self.data[idx]\n",
    "        image_path = os.path.join(self.image_dir, image_name)\n",
    "        image = Image.open(image_path)\n",
    "        if self.transform:\n",
    "            image = self.transform(image)\n",
    "        label = torch.tensor(label, dtype=torch.float32)\n",
    "        return image, label\n",
    "\n",
    "# Define your transformation on the image\n",
    "transform = transforms.Compose([\n",
    "    transforms.Resize((200, 200)),\n",
    "    transforms.ToTensor(),\n",
    "    transforms.Normalize(mean=[0.0, 0.0, 0.0], std=[1.0/255, 1.0/255, 1.0/255])\n",
    "])\n",
    "\n",
    "# Create training and validation datasets\n",
    "train_dataset = CustomDataset(data, image_dir, transform=transform, split='train')\n",
    "val_dataset = CustomDataset(data, image_dir, transform=transform, split='val')\n",
    "\n",
    "# Create data loaders for training and validation\n",
    "train_dataloader = DataLoader(train_dataset, batch_size=32, shuffle=True, num_workers=4)\n",
    "val_dataloader = DataLoader(val_dataset, batch_size=32, shuffle=False, num_workers=4)\n",
    "\n"
   ]
  },
  {
   "cell_type": "code",
   "execution_count": 6,
   "id": "a675751d-663e-421f-bc29-4dbb55d62137",
   "metadata": {},
   "outputs": [
    {
     "name": "stdout",
     "output_type": "stream",
     "text": [
      "9082\n"
     ]
    }
   ],
   "source": [
    "total_images = len(val_dataset)\n",
    "print(total_images)"
   ]
  },
  {
   "cell_type": "code",
   "execution_count": 7,
   "id": "adb523ac-833a-4d49-9af1-706b5f06894c",
   "metadata": {},
   "outputs": [],
   "source": [
    "import torch as th\n",
    "seed = 42\n",
    "np.random.seed(seed)\n",
    "th.manual_seed(seed)\n",
    "\n",
    "#checking the availability of the cuda\n",
    "if th.cuda.is_available():\n",
    "  # Make CuDNN Determinist\n",
    "  th.backends.cudnn.deterministic = True\n",
    "  th.cuda.manual_seed(seed)\n",
    "\n",
    "# Define default device, we should use the GPU (cuda) if available\n",
    "device = th.device(\"cuda\" if th.cuda.is_available() else \"cpu\")"
   ]
  },
  {
   "cell_type": "markdown",
   "id": "860b2be3-8027-4fda-9d45-b7377d421f4d",
   "metadata": {},
   "source": [
    "# Creating a VGG inspired custom CNN model"
   ]
  },
  {
   "cell_type": "code",
   "execution_count": 8,
   "id": "f3f31730-3386-471d-951e-9fd728d00f09",
   "metadata": {},
   "outputs": [],
   "source": [
    "import torch.nn as nn\n",
    "import torch.nn.functional as F\n",
    "\n",
    "class CustomVGG(nn.Module):\n",
    "    def __init__(self):\n",
    "        super(CustomVGG, self).__init__()\n",
    "        # Convolutional layers\n",
    "        self.conv1 = nn.Conv2d(3, 64, kernel_size=3, padding=1)\n",
    "        self.bn1 = nn.BatchNorm2d(64)\n",
    "        self.relu1 = nn.ReLU(inplace=True)\n",
    "        \n",
    "        self.conv2 = nn.Conv2d(64, 64, kernel_size=3, padding=1)\n",
    "        self.bn2 = nn.BatchNorm2d(64)\n",
    "        self.relu2 = nn.ReLU(inplace=True)\n",
    "        self.maxpool1 = nn.MaxPool2d(kernel_size=2, stride=2)\n",
    "        \n",
    "        self.conv3 = nn.Conv2d(64, 128, kernel_size=3, padding=1)\n",
    "        self.bn3 = nn.BatchNorm2d(128)\n",
    "        self.relu3 = nn.ReLU(inplace=True)        \n",
    "        \n",
    "        self.conv4 = nn.Conv2d(128, 128, kernel_size=3, padding=1)\n",
    "        self.bn4 = nn.BatchNorm2d(128)\n",
    "        self.relu4 = nn.ReLU(inplace=True)\n",
    "        self.maxpool2 = nn.MaxPool2d(kernel_size=2, stride=2)\n",
    "        \n",
    "        # Fully connected layers\n",
    "        self.fc1 = nn.Linear(128 * 50 * 50, 512)\n",
    "        self.relu5 = nn.ReLU(inplace=True)\n",
    "        self.dropout = nn.Dropout(0.4)\n",
    "        self.fc2 = nn.Linear(512, 128)\n",
    "        self.relu6 = nn.ReLU(inplace=True)\n",
    "        self.fc3 = nn.Linear(128, 1)\n",
    "\n",
    "    def forward(self, x):\n",
    "        # Convolutional layers\n",
    "        x = self.relu1(self.bn1(self.conv1(x)))\n",
    "        x = self.relu2(self.bn2(self.conv2(x)))\n",
    "        x = self.maxpool1(x)\n",
    "        \n",
    "        x = self.relu3(self.bn3(self.conv3(x)))\n",
    "        x = self.relu4(self.bn4(self.conv4(x)))\n",
    "        x = self.maxpool2(x)\n",
    "        \n",
    "        # print(\"Shape after convolutional layers:\", x.shape)\n",
    "        \n",
    "        # Flatten the tensor\n",
    "        x = x.view(-1, 128 * 50 * 50)\n",
    "        \n",
    "        # Fully connected layers\n",
    "        x = self.relu5(self.fc1(x))\n",
    "        x = self.dropout(x)\n",
    "        x = self.relu6(self.fc2(x))\n",
    "        x = self.fc3(x)\n",
    "        \n",
    "        return x.squeeze(1)\n",
    "\n",
    "\n",
    "# Create an instance of MiniVGG16Regression\n",
    "model = CustomVGG()\n"
   ]
  },
  {
   "cell_type": "markdown",
   "id": "dec1ae19-a9b5-45d7-b3fc-f81a9a1dd8a9",
   "metadata": {},
   "source": [
    "## Training the neural net for 30 and 50 epochs"
   ]
  },
  {
   "cell_type": "code",
   "execution_count": 41,
   "id": "ef6697d8-cc7d-4734-acb1-4e5df8e0c0f6",
   "metadata": {},
   "outputs": [
    {
     "name": "stdout",
     "output_type": "stream",
     "text": [
      "Epoch [1/50], Training Loss: 50.2906\n",
      "Epoch [1/50], Validation Loss: 166.5147\n",
      "Epoch [2/50], Training Loss: 52.3373\n",
      "Epoch [2/50], Validation Loss: 154.0984\n",
      "Epoch [3/50], Training Loss: 52.6552\n",
      "Epoch [3/50], Validation Loss: 154.6150\n",
      "Epoch [4/50], Training Loss: 44.4567\n",
      "Epoch [4/50], Validation Loss: 156.1306\n",
      "Epoch [5/50], Training Loss: 50.6643\n",
      "Epoch [5/50], Validation Loss: 159.5046\n",
      "Epoch [6/50], Training Loss: 51.4967\n",
      "Epoch [6/50], Validation Loss: 184.8207\n",
      "Epoch [7/50], Training Loss: 46.1606\n",
      "Epoch [7/50], Validation Loss: 140.7688\n",
      "Epoch [8/50], Training Loss: 46.0693\n",
      "Epoch [8/50], Validation Loss: 160.1127\n",
      "Epoch [9/50], Training Loss: 40.3192\n",
      "Epoch [9/50], Validation Loss: 195.5295\n",
      "Epoch [10/50], Training Loss: 44.3162\n",
      "Epoch [10/50], Validation Loss: 235.2044\n",
      "Epoch [11/50], Training Loss: 43.7509\n",
      "Epoch [11/50], Validation Loss: 122.7800\n",
      "Epoch [12/50], Training Loss: 40.3629\n",
      "Epoch [12/50], Validation Loss: 163.0208\n",
      "Epoch [13/50], Training Loss: 38.6252\n",
      "Epoch [13/50], Validation Loss: 171.8629\n",
      "Epoch [14/50], Training Loss: 38.9878\n",
      "Epoch [14/50], Validation Loss: 156.3037\n",
      "Epoch [15/50], Training Loss: 42.8638\n",
      "Epoch [15/50], Validation Loss: 166.8064\n",
      "Epoch [16/50], Training Loss: 32.2057\n",
      "Epoch [16/50], Validation Loss: 166.0671\n",
      "Epoch [17/50], Training Loss: 34.3286\n",
      "Epoch [17/50], Validation Loss: 167.7622\n",
      "Epoch [18/50], Training Loss: 33.5981\n",
      "Epoch [18/50], Validation Loss: 167.4716\n",
      "Epoch [19/50], Training Loss: 35.6203\n",
      "Epoch [19/50], Validation Loss: 180.7420\n",
      "Epoch [20/50], Training Loss: 33.1804\n",
      "Epoch [20/50], Validation Loss: 151.1472\n",
      "Epoch [21/50], Training Loss: 36.0839\n",
      "Epoch [21/50], Validation Loss: 175.4336\n",
      "Epoch [22/50], Training Loss: 41.4648\n",
      "Epoch [22/50], Validation Loss: 157.6928\n",
      "Epoch [23/50], Training Loss: 34.2849\n",
      "Epoch [23/50], Validation Loss: 194.2048\n",
      "Epoch [24/50], Training Loss: 35.3058\n",
      "Epoch [24/50], Validation Loss: 145.1803\n",
      "Epoch [25/50], Training Loss: 30.9993\n",
      "Epoch [25/50], Validation Loss: 156.9130\n",
      "Epoch [26/50], Training Loss: 33.0592\n",
      "Epoch [26/50], Validation Loss: 150.6090\n",
      "Epoch [27/50], Training Loss: 31.6246\n",
      "Epoch [27/50], Validation Loss: 152.1772\n",
      "Epoch [28/50], Training Loss: 35.7588\n",
      "Epoch [28/50], Validation Loss: 164.7724\n",
      "Epoch [29/50], Training Loss: 29.7968\n",
      "Epoch [29/50], Validation Loss: 165.7670\n",
      "Epoch [30/50], Training Loss: 30.2973\n",
      "Epoch [30/50], Validation Loss: 183.5389\n",
      "Epoch [31/50], Training Loss: 30.0662\n",
      "Epoch [31/50], Validation Loss: 152.1683\n",
      "Epoch [32/50], Training Loss: 32.1807\n",
      "Epoch [32/50], Validation Loss: 190.6015\n",
      "Epoch [33/50], Training Loss: 31.2111\n",
      "Epoch [33/50], Validation Loss: 132.7373\n",
      "Epoch [34/50], Training Loss: 30.9757\n",
      "Epoch [34/50], Validation Loss: 158.0140\n",
      "Epoch [35/50], Training Loss: 32.0107\n",
      "Epoch [35/50], Validation Loss: 148.0418\n",
      "Epoch [36/50], Training Loss: 28.3118\n",
      "Epoch [36/50], Validation Loss: 150.3922\n",
      "Epoch [37/50], Training Loss: 27.0147\n",
      "Epoch [37/50], Validation Loss: 181.0347\n",
      "Epoch [38/50], Training Loss: 27.2641\n",
      "Epoch [38/50], Validation Loss: 145.5298\n",
      "Epoch [39/50], Training Loss: 29.6415\n",
      "Epoch [39/50], Validation Loss: 148.6342\n",
      "Epoch [40/50], Training Loss: 26.7141\n",
      "Epoch [40/50], Validation Loss: 155.4741\n",
      "Epoch [41/50], Training Loss: 26.0104\n",
      "Epoch [41/50], Validation Loss: 132.0984\n",
      "Epoch [42/50], Training Loss: 29.4674\n",
      "Epoch [42/50], Validation Loss: 153.6445\n",
      "Epoch [43/50], Training Loss: 27.0672\n",
      "Epoch [43/50], Validation Loss: 136.8284\n",
      "Epoch [44/50], Training Loss: 30.1631\n",
      "Epoch [44/50], Validation Loss: 156.7194\n",
      "Epoch [45/50], Training Loss: 26.8436\n",
      "Epoch [45/50], Validation Loss: 170.4233\n",
      "Epoch [46/50], Training Loss: 23.9718\n",
      "Epoch [46/50], Validation Loss: 168.4005\n",
      "Epoch [47/50], Training Loss: 24.0520\n",
      "Epoch [47/50], Validation Loss: 158.5622\n",
      "Epoch [48/50], Training Loss: 26.9830\n",
      "Epoch [48/50], Validation Loss: 154.4405\n",
      "Epoch [49/50], Training Loss: 26.1536\n",
      "Epoch [49/50], Validation Loss: 191.0407\n",
      "Epoch [50/50], Training Loss: 21.3747\n",
      "Epoch [50/50], Validation Loss: 146.7165\n"
     ]
    }
   ],
   "source": [
    "# Move model to GPU\n",
    "model.to(device)\n",
    "\n",
    "# Initialize optimizer with model parameters\n",
    "optimizer = torch.optim.Adam(model.parameters(), lr=0.001)\n",
    "criterion = nn.MSELoss()\n",
    "\n",
    "# Training loop\n",
    "# num_epochs = 50\n",
    "num_epochs = 50\n",
    "training_losses = []\n",
    "validation_losses = []\n",
    "\n",
    "for epoch in range(num_epochs):\n",
    "    epoch_training_loss = 0.0\n",
    "    epoch_validation_loss = 0.0\n",
    "\n",
    "    # Training\n",
    "    model.train()\n",
    "    for inputs, targets in train_dataloader:  # Use train_dataloader for training\n",
    "        inputs, targets = inputs.to(device), targets.to(device)  # Move data to GPU\n",
    "        optimizer.zero_grad()\n",
    "        outputs = model(inputs)\n",
    "        loss = criterion(outputs, targets)\n",
    "        loss.backward()\n",
    "        optimizer.step()\n",
    "        epoch_training_loss += loss.item() * inputs.size(0)\n",
    "\n",
    "    # Calculate average training loss for the epoch\n",
    "    epoch_training_loss /= len(train_dataloader.dataset)\n",
    "    training_losses.append(epoch_training_loss)\n",
    "\n",
    "    # Validation\n",
    "    model.eval()\n",
    "    with torch.no_grad():\n",
    "        for val_inputs, val_targets in val_dataloader:  # Use val_dataloader for validation\n",
    "            val_inputs, val_targets = val_inputs.to(device), val_targets.to(device)  # Move data to GPU\n",
    "            val_outputs = model(val_inputs)\n",
    "            val_loss = criterion(val_outputs, val_targets)\n",
    "            epoch_validation_loss += val_loss.item() * val_inputs.size(0)\n",
    "    epoch_validation_loss /= len(val_dataloader.dataset)\n",
    "    validation_losses.append(epoch_validation_loss)\n",
    "\n",
    "    print(f\"Epoch [{epoch+1}/{num_epochs}], Training Loss: {epoch_training_loss:.4f}\")\n",
    "    print(f\"Epoch [{epoch+1}/{num_epochs}], Validation Loss: {epoch_validation_loss:.4f}\")"
   ]
  },
  {
   "cell_type": "code",
   "execution_count": 43,
   "id": "4dfb5ce6-cd0b-4aaf-b27b-10d168e8fb75",
   "metadata": {},
   "outputs": [
    {
     "data": {
      "image/png": "[encoded data removed]",
      "text/plain": [
       "<Figure size 640x480 with 1 Axes>"
      ]
     },
     "metadata": {},
     "output_type": "display_data"
    }
   ],
   "source": [
    "import matplotlib.pyplot as plt\n",
    "# Plotting\n",
    "plt.plot(training_losses, label='Training Loss')\n",
    "plt.plot(validation_losses, label='Validation Loss')\n",
    "plt.xlabel('Epoch')\n",
    "plt.ylabel('Loss')\n",
    "plt.title('Training and Validation Loss')\n",
    "plt.legend()\n",
    "plt.show()"
   ]
  },
  {
   "cell_type": "markdown",
   "id": "4ab070cb-77c7-4f31-93c5-67aee1eb2660",
   "metadata": {},
   "source": [
    "## Saving the model weights after training"
   ]
  },
  {
   "cell_type": "code",
   "execution_count": 42,
   "id": "03e06dc9-5836-4829-8a74-f6a702216841",
   "metadata": {},
   "outputs": [],
   "source": [
    "import torch as th\n",
    "model_path = '/home/exouser/ME592_course_project_TG2/model/model50.pth'\n",
    "th.save(model.state_dict(),model_path)"
   ]
  },
  {
   "cell_type": "markdown",
   "id": "e2487956-7e9e-4e46-9f54-d4e13615d92e",
   "metadata": {},
   "source": [
    "## Loading the saved model for pediction"
   ]
  },
  {
   "cell_type": "code",
   "execution_count": 9,
   "id": "cd6f0d5f-fbb8-4c5f-adc4-18f667155f42",
   "metadata": {},
   "outputs": [
    {
     "data": {
      "text/plain": [
       "CustomVGG(\n",
       "  (conv1): Conv2d(3, 64, kernel_size=(3, 3), stride=(1, 1), padding=(1, 1))\n",
       "  (bn1): BatchNorm2d(64, eps=1e-05, momentum=0.1, affine=True, track_running_stats=True)\n",
       "  (relu1): ReLU(inplace=True)\n",
       "  (conv2): Conv2d(64, 64, kernel_size=(3, 3), stride=(1, 1), padding=(1, 1))\n",
       "  (bn2): BatchNorm2d(64, eps=1e-05, momentum=0.1, affine=True, track_running_stats=True)\n",
       "  (relu2): ReLU(inplace=True)\n",
       "  (maxpool1): MaxPool2d(kernel_size=2, stride=2, padding=0, dilation=1, ceil_mode=False)\n",
       "  (conv3): Conv2d(64, 128, kernel_size=(3, 3), stride=(1, 1), padding=(1, 1))\n",
       "  (bn3): BatchNorm2d(128, eps=1e-05, momentum=0.1, affine=True, track_running_stats=True)\n",
       "  (relu3): ReLU(inplace=True)\n",
       "  (conv4): Conv2d(128, 128, kernel_size=(3, 3), stride=(1, 1), padding=(1, 1))\n",
       "  (bn4): BatchNorm2d(128, eps=1e-05, momentum=0.1, affine=True, track_running_stats=True)\n",
       "  (relu4): ReLU(inplace=True)\n",
       "  (maxpool2): MaxPool2d(kernel_size=2, stride=2, padding=0, dilation=1, ceil_mode=False)\n",
       "  (fc1): Linear(in_features=320000, out_features=512, bias=True)\n",
       "  (relu5): ReLU(inplace=True)\n",
       "  (dropout): Dropout(p=0.4, inplace=False)\n",
       "  (fc2): Linear(in_features=512, out_features=128, bias=True)\n",
       "  (relu6): ReLU(inplace=True)\n",
       "  (fc3): Linear(in_features=128, out_features=1, bias=True)\n",
       ")"
      ]
     },
     "execution_count": 9,
     "metadata": {},
     "output_type": "execute_result"
    }
   ],
   "source": [
    "import torch as th\n",
    "model_path = '/home/exouser/ME592_course_project_TG2/model/model50.pth'\n",
    "model.load_state_dict(th.load(model_path))\n",
    "# Move model to GPU\n",
    "model.to(device)\n",
    "model.eval()"
   ]
  },
  {
   "cell_type": "markdown",
   "id": "2ebc4623-47e9-4880-95cd-92f574bbe4eb",
   "metadata": {},
   "source": [
    "## This piece of code predcits the steering angel and vidualises it using CV2"
   ]
  },
  {
   "cell_type": "code",
   "execution_count": null,
   "id": "faef8d1e-623e-4ce7-aa6e-e05b791a2cd7",
   "metadata": {},
   "outputs": [],
   "source": [
    "import cv2\n",
    "import math\n",
    "from PIL import Image\n",
    "\n",
    "DATA_FOLDER = '/home/exouser/Downloads/Project_code_data/Dataset/driving_dataset/driving_dataset/'\n",
    "TRAIN_FILE = os.path.join(DATA_FOLDER, 'data.txt')\n",
    "\n",
    "\n",
    "img = cv2.imread('steering_wheel_image.jpg',0)\n",
    "rows,cols = img.shape\n",
    "\n",
    "smoothed_angle = 0\n",
    "\n",
    "xs = []\n",
    "ys = []\n",
    "with open(TRAIN_FILE) as f:\n",
    "    for line in f:\n",
    "        xs.append(DATA_FOLDER + line.split()[0])\n",
    "        ys.append(float(line.split()[1]))\n",
    "\n",
    "num_images = len(xs)\n",
    "i = math.ceil(num_images * 0.5)\n",
    "\n",
    "while cv2.waitKey(10) != ord('q'):\n",
    "    full_image = cv2.imread(DATA_FOLDER + str(i) + \".jpg\")\n",
    "    image = Image.open(DATA_FOLDER + str(i) + \".jpg\")    \n",
    "    image_tensor = transform(image).unsqueeze(0)\n",
    "    image_tensor = image_tensor.to(device)\n",
    "    with torch.no_grad():\n",
    "        output = model(image_tensor)\n",
    "        degrees = output.item()\n",
    "    \n",
    "    print(\"Predicted steering angle: \" + str(degrees) + \" degrees\")\n",
    "    cv2.imshow(\"frame\", full_image)\n",
    "    \n",
    "    # Update visualization of steering wheel\n",
    "    smoothed_angle += 0.2 * pow(abs((degrees - smoothed_angle)), 2.0 / 3.0) * (degrees - smoothed_angle) / abs(degrees - smoothed_angle)\n",
    "    M = cv2.getRotationMatrix2D((cols/2, rows/2), -smoothed_angle, 1)\n",
    "    dst = cv2.warpAffine(img, M, (cols, rows))\n",
    "    cv2.imshow(\"steering wheel\", dst)\n",
    "    \n",
    "    i += 1\n",
    "\n",
    "cv2.destroyAllWindows()\n"
   ]
  },
  {
   "cell_type": "code",
   "execution_count": 10,
   "id": "9ef767c0-8370-404f-bbae-890fadc71d8d",
   "metadata": {},
   "outputs": [
    {
     "ename": "IndexError",
     "evalue": "list index out of range",
     "output_type": "error",
     "traceback": [
      "\u001b[0;31m---------------------------------------------------------------------------\u001b[0m",
      "\u001b[0;31mIndexError\u001b[0m                                Traceback (most recent call last)",
      "Cell \u001b[0;32mIn[10], line 42\u001b[0m\n\u001b[1;32m     40\u001b[0m \u001b[38;5;66;03m# Store predicted and actual steering angles\u001b[39;00m\n\u001b[1;32m     41\u001b[0m predicted_angles\u001b[38;5;241m.\u001b[39mappend(degrees)\n\u001b[0;32m---> 42\u001b[0m actual_angles\u001b[38;5;241m.\u001b[39mappend(\u001b[43mys\u001b[49m\u001b[43m[\u001b[49m\u001b[43mi\u001b[49m\u001b[43m]\u001b[49m)\n\u001b[1;32m     43\u001b[0m i \u001b[38;5;241m+\u001b[39m\u001b[38;5;241m=\u001b[39m \u001b[38;5;241m1\u001b[39m\n",
      "\u001b[0;31mIndexError\u001b[0m: list index out of range"
     ]
    }
   ],
   "source": [
    "import cv2\n",
    "import math\n",
    "from PIL import Image\n",
    "import os\n",
    "\n",
    "DATA_FOLDER = '/home/exouser/Downloads/Project_code_data/Dataset/driving_dataset/driving_dataset/'\n",
    "TRAIN_FILE = os.path.join(DATA_FOLDER, 'data.txt')\n",
    "\n",
    "\n",
    "img = cv2.imread('steering_wheel_image.jpg',0)\n",
    "rows,cols = img.shape\n",
    "\n",
    "smoothed_angle = 0\n",
    "\n",
    "\n",
    "\n",
    "xs = []\n",
    "ys = []\n",
    "with open(TRAIN_FILE) as f:\n",
    "    for line in f:\n",
    "        xs.append(DATA_FOLDER + line.split()[0])\n",
    "        ys.append(float(line.split()[1]))\n",
    "\n",
    "num_images = len(xs)\n",
    "i = math.ceil(num_images * 0.8)\n",
    "# Initialize lists to store predicted and actual steering angles\n",
    "predicted_angles = []\n",
    "actual_angles = []\n",
    "\n",
    "# Iterate through the data and make predictions\n",
    "while cv2.waitKey(10) != ord('q'):\n",
    "    full_image = cv2.imread(os.path.join(DATA_FOLDER, str(i) + \".jpg\"))\n",
    "    image = Image.open(os.path.join(DATA_FOLDER, str(i) + \".jpg\"))\n",
    "    image_tensor = transform(image).unsqueeze(0)\n",
    "    image_tensor = image_tensor.to(device)\n",
    "    with torch.no_grad():\n",
    "        output = model(image_tensor)\n",
    "        degrees = output.item()\n",
    "    \n",
    "    # Store predicted and actual steering angles\n",
    "    predicted_angles.append(degrees)\n",
    "    actual_angles.append(ys[i])\n",
    "    i += 1\n",
    "    # print(\"Predicted steering angle: \" + str(degrees) + \" degrees\")\n",
    "    # cv2.imshow(\"frame\", full_image)"
   ]
  },
  {
   "cell_type": "markdown",
   "id": "08565945-fb03-4be3-9e45-3250f0435463",
   "metadata": {},
   "source": [
    "## Plotting the predicted vs actual values plot"
   ]
  },
  {
   "cell_type": "code",
   "execution_count": 39,
   "id": "f16f3a03-6e5f-418d-9c0a-7fc3eeb0c4a6",
   "metadata": {},
   "outputs": [
    {
     "data": {
      "image/png": "[encoded data removed]",
      "text/plain": [
       "<Figure size 640x480 with 1 Axes>"
      ]
     },
     "metadata": {},
     "output_type": "display_data"
    }
   ],
   "source": [
    "import matplotlib.pyplot as plt\n",
    "# Compute residuals\n",
    "# residuals = np.array(actual_angles) - np.array(predicted_angles)\n",
    "\n",
    "# Plot residual vs predicted value scatter plot\n",
    "plt.scatter(predicted_angles[:9081], actual_angles[:9081])\n",
    "plt.xlabel(\"Predicted Values\")\n",
    "plt.ylabel(\"Actual Values\")\n",
    "plt.title(\"Residual vs Predicted Value\")\n",
    "plt.show()"
   ]
  },
  {
   "cell_type": "markdown",
   "id": "7af39584-4edd-4263-9535-476e624f75d8",
   "metadata": {},
   "source": [
    "## Calculating the R^2 and MSE values"
   ]
  },
  {
   "cell_type": "code",
   "execution_count": 13,
   "id": "ca3d9802-bd0e-4282-a827-b50e5a0c67db",
   "metadata": {},
   "outputs": [
    {
     "name": "stdout",
     "output_type": "stream",
     "text": [
      "R-squared: 0.8362093975600626\n"
     ]
    }
   ],
   "source": [
    "from sklearn.metrics import mean_squared_error, r2_score\n",
    "\n",
    "# Calculate R-squared\n",
    "r_squared = r2_score(actual_angles[:9081], predicted_angles[:9081])\n",
    "print(\"R-squared:\", r_squared)\n"
   ]
  }
 ],
 "metadata": {
  "kernelspec": {
   "display_name": "me592",
   "language": "python",
   "name": "me592"
  },
  "language_info": {
   "codemirror_mode": {
    "name": "ipython",
    "version": 3
   },
   "file_extension": ".py",
   "mimetype": "text/x-python",
   "name": "python",
   "nbconvert_exporter": "python",
   "pygments_lexer": "ipython3",
   "version": "3.8.13"
  }
 },
 "nbformat": 4,
 "nbformat_minor": 5
}
